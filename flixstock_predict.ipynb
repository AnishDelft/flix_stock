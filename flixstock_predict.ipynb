{
 "cells": [
  {
   "cell_type": "markdown",
   "source": [
    "# FlixStock's Prediction File"
   ],
   "metadata": {}
  },
  {
   "cell_type": "code",
   "execution_count": 4,
   "source": [
    "# Importing the necessary libraries \r\n",
    "import pandas as pd\r\n",
    "import cv2\r\n",
    "import os\r\n",
    "import numpy as np\r\n",
    "import matplotlib.pyplot as plt\r\n",
    "import tensorflow as tf\r\n",
    "from tensorflow.keras.applications.resnet50 import ResNet50\r\n",
    "from tensorflow.keras.layers import Input, Dense, Activation, ZeroPadding2D, BatchNormalization, Flatten, Conv2D\r\n",
    "from tensorflow.keras.layers import AveragePooling2D, MaxPooling2D, Dropout, GlobalMaxPooling2D, GlobalAveragePooling2D\r\n",
    "from tensorflow.keras.models import Model"
   ],
   "outputs": [],
   "metadata": {}
  },
  {
   "cell_type": "code",
   "execution_count": 5,
   "source": [
    " # Load the trained model\r\n",
    " loaded_model = tf.keras.models.load_model(\"./model/\")"
   ],
   "outputs": [],
   "metadata": {}
  },
  {
   "cell_type": "code",
   "execution_count": 6,
   "source": [
    "# Counting the number of test images\r\n",
    "path = \"./test/\"\r\n",
    "files = os.listdir(path)\r\n",
    "print(len(files))"
   ],
   "outputs": [
    {
     "output_type": "stream",
     "name": "stdout",
     "text": [
      "10\n"
     ]
    }
   ],
   "metadata": {}
  },
  {
   "cell_type": "code",
   "execution_count": 29,
   "source": [
    "# Creating an image stack for making batch predictions\r\n",
    "images = []\r\n",
    "file_name = []\r\n",
    "for file in files:\r\n",
    "    file_name.append(file)\r\n",
    "    image = cv2.imread(path+file)\r\n",
    "    image = cv2.resize(image,dsize=(300,300))\r\n",
    "    image = image.reshape((image.shape[0],image.shape[1],3))\r\n",
    "    images.append(image)"
   ],
   "outputs": [],
   "metadata": {}
  },
  {
   "cell_type": "code",
   "execution_count": 17,
   "source": [
    "# Converting the data from list to numpy array\r\n",
    "features = np.zeros((10,300,300,3),dtype = 'float32')\r\n",
    "\r\n",
    "for i in range(10):\r\n",
    "    features[i] = images[i]\r\n",
    "\r\n",
    "# Assuming that the image is an 8-bit image we normalize the pixels of the image\r\n",
    "features = features/255"
   ],
   "outputs": [],
   "metadata": {}
  },
  {
   "cell_type": "code",
   "execution_count": 38,
   "source": [
    "# Making predictions and getting the index of the max probability as that index is the predicted class\r\n",
    "class_neck = []\r\n",
    "class_sleeve = []\r\n",
    "class_pattern = []\r\n",
    "for i in range(10):\r\n",
    "    test = features[i].reshape((1,300,300,3))\r\n",
    "    val = loaded_model.predict(test)\r\n",
    "    neck =  val[0]\r\n",
    "    sleeve = val[1]\r\n",
    "    pattern = val[2]\r\n",
    "    class_neck.append(np.argmax(neck))\r\n",
    "    class_sleeve.append(np.argmax(sleeve))\r\n",
    "    class_pattern.append(np.argmax(pattern))"
   ],
   "outputs": [],
   "metadata": {}
  },
  {
   "cell_type": "code",
   "execution_count": 33,
   "source": [
    "# Converting into final data frame\r\n",
    "dict_pred = {'filename': file_name,'neck': class_neck,'sleeve_length': class_sleeve, 'pattern': class_pattern }\r\n",
    "pred_df = pd.DataFrame.from_dict(dict_pred)\r\n",
    "pred_df.head()\r\n",
    "pred_df.to_csv(\"prediction.csv\")"
   ],
   "outputs": [],
   "metadata": {}
  }
 ],
 "metadata": {
  "orig_nbformat": 4,
  "language_info": {
   "name": "python",
   "version": "3.8.6",
   "mimetype": "text/x-python",
   "codemirror_mode": {
    "name": "ipython",
    "version": 3
   },
   "pygments_lexer": "ipython3",
   "nbconvert_exporter": "python",
   "file_extension": ".py"
  },
  "kernelspec": {
   "name": "python3",
   "display_name": "Python 3.8.6 64-bit"
  },
  "interpreter": {
   "hash": "01b15be19926ccc325f5889ba53bdd477e79541e198cc8cc3efb394300ce31a2"
  }
 },
 "nbformat": 4,
 "nbformat_minor": 2
}